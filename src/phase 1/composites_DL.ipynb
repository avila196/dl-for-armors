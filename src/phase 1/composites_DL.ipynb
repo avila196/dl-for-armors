{
 "cells": [
  {
   "cell_type": "markdown",
   "metadata": {},
   "source": [
    "## Deep Learning to find the response of a Ballistic Composite"
   ]
  },
  {
   "cell_type": "markdown",
   "metadata": {},
   "source": [
    "#### Imports needed for DL and handling of data"
   ]
  },
  {
   "cell_type": "code",
   "execution_count": 1,
   "metadata": {},
   "outputs": [],
   "source": [
    "import pandas as pd\n",
    "import numpy as np\n",
    "import matplotlib.pyplot as plt\n",
    "\n",
    "# Make numpy values easier to read.\n",
    "np.set_printoptions(precision=3, suppress=True)\n",
    "\n",
    "import tensorflow as tf\n",
    "from tensorflow.keras import layers\n",
    "from tensorflow.keras.layers.experimental import preprocessing"
   ]
  },
  {
   "cell_type": "markdown",
   "metadata": {},
   "source": [
    "#### Reading of CSV file with all pre-calculated data for composites"
   ]
  },
  {
   "cell_type": "code",
   "execution_count": 2,
   "metadata": {},
   "outputs": [
    {
     "data": {
      "text/html": [
       "<div>\n",
       "<style scoped>\n",
       "    .dataframe tbody tr th:only-of-type {\n",
       "        vertical-align: middle;\n",
       "    }\n",
       "\n",
       "    .dataframe tbody tr th {\n",
       "        vertical-align: top;\n",
       "    }\n",
       "\n",
       "    .dataframe thead th {\n",
       "        text-align: right;\n",
       "    }\n",
       "</style>\n",
       "<table border=\"1\" class=\"dataframe\">\n",
       "  <thead>\n",
       "    <tr style=\"text-align: right;\">\n",
       "      <th></th>\n",
       "      <th>L1_h</th>\n",
       "      <th>L1_E</th>\n",
       "      <th>L1_rho</th>\n",
       "      <th>L2_h</th>\n",
       "      <th>L4_h</th>\n",
       "      <th>L6_h</th>\n",
       "      <th>L9_h</th>\n",
       "      <th>Y</th>\n",
       "    </tr>\n",
       "  </thead>\n",
       "  <tbody>\n",
       "    <tr>\n",
       "      <th>0</th>\n",
       "      <td>5.137523</td>\n",
       "      <td>3.340000e+11</td>\n",
       "      <td>3690</td>\n",
       "      <td>0.514014</td>\n",
       "      <td>0.514014</td>\n",
       "      <td>0.514014</td>\n",
       "      <td>1.012914</td>\n",
       "      <td>1</td>\n",
       "    </tr>\n",
       "    <tr>\n",
       "      <th>1</th>\n",
       "      <td>5.137523</td>\n",
       "      <td>3.340000e+11</td>\n",
       "      <td>3690</td>\n",
       "      <td>0.514014</td>\n",
       "      <td>0.514014</td>\n",
       "      <td>0.514014</td>\n",
       "      <td>2.011149</td>\n",
       "      <td>1</td>\n",
       "    </tr>\n",
       "    <tr>\n",
       "      <th>2</th>\n",
       "      <td>5.137523</td>\n",
       "      <td>3.340000e+11</td>\n",
       "      <td>3690</td>\n",
       "      <td>0.514014</td>\n",
       "      <td>0.514014</td>\n",
       "      <td>0.514014</td>\n",
       "      <td>3.009383</td>\n",
       "      <td>0</td>\n",
       "    </tr>\n",
       "    <tr>\n",
       "      <th>3</th>\n",
       "      <td>5.137523</td>\n",
       "      <td>3.340000e+11</td>\n",
       "      <td>3690</td>\n",
       "      <td>0.514014</td>\n",
       "      <td>0.514014</td>\n",
       "      <td>0.541067</td>\n",
       "      <td>1.012914</td>\n",
       "      <td>1</td>\n",
       "    </tr>\n",
       "    <tr>\n",
       "      <th>4</th>\n",
       "      <td>5.137523</td>\n",
       "      <td>3.340000e+11</td>\n",
       "      <td>3690</td>\n",
       "      <td>0.514014</td>\n",
       "      <td>0.514014</td>\n",
       "      <td>0.541067</td>\n",
       "      <td>2.011149</td>\n",
       "      <td>1</td>\n",
       "    </tr>\n",
       "  </tbody>\n",
       "</table>\n",
       "</div>"
      ],
      "text/plain": [
       "       L1_h          L1_E  L1_rho      L2_h      L4_h      L6_h      L9_h  Y\n",
       "0  5.137523  3.340000e+11    3690  0.514014  0.514014  0.514014  1.012914  1\n",
       "1  5.137523  3.340000e+11    3690  0.514014  0.514014  0.514014  2.011149  1\n",
       "2  5.137523  3.340000e+11    3690  0.514014  0.514014  0.514014  3.009383  0\n",
       "3  5.137523  3.340000e+11    3690  0.514014  0.514014  0.541067  1.012914  1\n",
       "4  5.137523  3.340000e+11    3690  0.514014  0.514014  0.541067  2.011149  1"
      ]
     },
     "execution_count": 2,
     "metadata": {},
     "output_type": "execute_result"
    }
   ],
   "source": [
    "composites_data = pd.read_csv(\"../../data/all_data_2.csv\")\n",
    "#Drop columns that have the same value for all composites (they don't give any information)\n",
    "nunique = composites_data.apply(pd.Series.nunique)\n",
    "cols_to_drop = nunique[nunique == 1].index\n",
    "composites_data.drop(cols_to_drop, axis=1, inplace=True)\n",
    "composites_data.head()"
   ]
  },
  {
   "cell_type": "code",
   "execution_count": 3,
   "metadata": {},
   "outputs": [
    {
     "name": "stdout",
     "output_type": "stream",
     "text": [
      "(3420, 8)\n"
     ]
    }
   ],
   "source": [
    "#Drop some rows to have approximately equal amount of true and false values\n",
    "comp1 = composites_data[composites_data[\"Y\"] == 1]\n",
    "comp1 = comp1.sample(frac=0.35, random_state=123)\n",
    "comp2 = composites_data[composites_data[\"Y\"] == 0]\n",
    "composites_data = pd.concat([comp1, comp2])\n",
    "print(composites_data.shape)"
   ]
  },
  {
   "cell_type": "markdown",
   "metadata": {},
   "source": [
    "#### Pre-processing of data and definition of the Model to train"
   ]
  },
  {
   "cell_type": "code",
   "execution_count": 4,
   "metadata": {},
   "outputs": [
    {
     "name": "stdout",
     "output_type": "stream",
     "text": [
      "Percentage of true labels:  0.4727095516569201\n",
      "Percentage of false labels:  0.5272904483430799\n"
     ]
    }
   ],
   "source": [
    "from tensorflow.keras.optimizers import SGD, Adam\n",
    "from tensorflow.keras.utils import to_categorical, normalize\n",
    "from tensorflow.keras.regularizers import l1\n",
    "\n",
    "#Split data into training and testing data\n",
    "train_data = composites_data.sample(frac=0.7, random_state=123)\n",
    "test_data = composites_data.drop(train_data.index)\n",
    "\n",
    "#As all data is numeric, we can create a numpy array for all the x features (to make the operations faster) and we \n",
    "#can manually create the label y vector\n",
    "def get_numpy(data):\n",
    "    data_features = data.copy()\n",
    "    data_labels = np.array(data_features.pop('Y'))\n",
    "    data_features = np.array(data_features)\n",
    "    return data_features, data_labels\n",
    "\n",
    "comp_features_train, comp_labels_train = get_numpy(train_data)\n",
    "comp_features_test, comp_labels_test = get_numpy(test_data)\n",
    "\n",
    "#As every column doesn't have the same range and scale, it's useful to normalize the data using the Normalization layer\n",
    "#provided by the keras.utils module\n",
    "comp_features_train = normalize(comp_features_train, axis=0)\n",
    "comp_features_test = normalize(comp_features_test, axis=0)\n",
    "\n",
    "#Number of True and False labels in the Test set\n",
    "print(\"Percentage of true labels: \",np.sum(comp_labels_test)/len(comp_labels_test))\n",
    "print(\"Percentage of false labels: \",np.sum(comp_labels_test == 0)/len(comp_labels_test))"
   ]
  },
  {
   "cell_type": "code",
   "execution_count": 11,
   "metadata": {},
   "outputs": [
    {
     "name": "stdout",
     "output_type": "stream",
     "text": [
      "Model: \"sequential_1\"\n",
      "_________________________________________________________________\n",
      "Layer (type)                 Output Shape              Param #   \n",
      "=================================================================\n",
      "dense_5 (Dense)              (None, 256)               2048      \n",
      "_________________________________________________________________\n",
      "dense_6 (Dense)              (None, 128)               32896     \n",
      "_________________________________________________________________\n",
      "dense_7 (Dense)              (None, 64)                8256      \n",
      "_________________________________________________________________\n",
      "dense_8 (Dense)              (None, 32)                2080      \n",
      "_________________________________________________________________\n",
      "dense_9 (Dense)              (None, 2)                 66        \n",
      "=================================================================\n",
      "Total params: 45,346\n",
      "Trainable params: 45,346\n",
      "Non-trainable params: 0\n",
      "_________________________________________________________________\n"
     ]
    }
   ],
   "source": [
    "## NN MODEL\n",
    "composites_model = tf.keras.Sequential([\n",
    "    layers.Dense(256, input_shape=(comp_features_train.shape[1],), activation=\"relu\", kernel_regularizer=l1(1e-4)),\n",
    "    layers.Dense(128, activation=\"relu\", kernel_regularizer=l1(1e-4)),\n",
    "    layers.Dense(64, activation=\"relu\", kernel_regularizer=l1(1e-4)),\n",
    "    layers.Dense(32, activation=\"relu\", kernel_regularizer=l1(1e-4)),\n",
    "    layers.Dense(2, activation=\"softmax\")\n",
    "])\n",
    "\n",
    "opt = Adam(learning_rate=0.0003)\n",
    "composites_model.compile(loss = \"sparse_categorical_crossentropy\",\n",
    "                           optimizer = opt, metrics=[\"accuracy\"])\n",
    "composites_model.summary()\n",
    "\n",
    "# Define a Callback class that stops training once accuracy reaches 99.9%\n",
    "class myCallback(tf.keras.callbacks.Callback):\n",
    "    def on_epoch_end(self, epoch, logs={}):\n",
    "        if(logs.get('accuracy')>0.999):\n",
    "            print(\"\\nReached 99.9% accuracy so cancelling training!\")\n",
    "            self.model.stop_training = True"
   ]
  },
  {
   "cell_type": "markdown",
   "metadata": {},
   "source": [
    "#### Model fit with training data"
   ]
  },
  {
   "cell_type": "code",
   "execution_count": 12,
   "metadata": {},
   "outputs": [
    {
     "name": "stdout",
     "output_type": "stream",
     "text": [
      "Epoch 1/50\n",
      "150/150 [==============================] - 1s 2ms/step - loss: 0.9645 - accuracy: 0.6102 - val_loss: 0.8470 - val_accuracy: 0.4727\n",
      "Epoch 2/50\n",
      "150/150 [==============================] - 0s 1ms/step - loss: 0.8167 - accuracy: 0.5715 - val_loss: 0.7077 - val_accuracy: 0.9493\n",
      "Epoch 3/50\n",
      "150/150 [==============================] - 0s 1ms/step - loss: 0.6780 - accuracy: 0.7926 - val_loss: 0.4927 - val_accuracy: 0.7427\n",
      "Epoch 4/50\n",
      "150/150 [==============================] - 0s 1ms/step - loss: 0.3811 - accuracy: 0.9349 - val_loss: 0.4635 - val_accuracy: 0.7456\n",
      "Epoch 5/50\n",
      "150/150 [==============================] - 0s 1ms/step - loss: 0.2653 - accuracy: 0.9504 - val_loss: 0.3527 - val_accuracy: 0.9493\n",
      "Epoch 6/50\n",
      "150/150 [==============================] - 0s 1ms/step - loss: 0.2485 - accuracy: 0.9501 - val_loss: 0.7023 - val_accuracy: 0.7427\n",
      "Epoch 7/50\n",
      "150/150 [==============================] - 0s 1ms/step - loss: 0.2191 - accuracy: 0.9593 - val_loss: 0.3333 - val_accuracy: 0.9493\n",
      "Epoch 8/50\n",
      "150/150 [==============================] - 0s 1ms/step - loss: 0.2356 - accuracy: 0.9533 - val_loss: 0.2675 - val_accuracy: 0.9493\n",
      "Epoch 9/50\n",
      "150/150 [==============================] - 0s 1ms/step - loss: 0.2589 - accuracy: 0.9313 - val_loss: 0.3754 - val_accuracy: 0.9162\n",
      "Epoch 10/50\n",
      "150/150 [==============================] - 0s 1ms/step - loss: 0.2260 - accuracy: 0.9535 - val_loss: 0.3172 - val_accuracy: 0.9493\n",
      "Epoch 11/50\n",
      "150/150 [==============================] - 0s 1ms/step - loss: 0.2253 - accuracy: 0.9508 - val_loss: 0.3463 - val_accuracy: 0.9405\n",
      "Epoch 12/50\n",
      "150/150 [==============================] - 0s 1ms/step - loss: 0.2290 - accuracy: 0.9522 - val_loss: 0.3020 - val_accuracy: 0.9493\n",
      "Epoch 13/50\n",
      "150/150 [==============================] - 0s 1ms/step - loss: 0.2284 - accuracy: 0.9513 - val_loss: 0.5979 - val_accuracy: 0.7446\n",
      "Epoch 14/50\n",
      "150/150 [==============================] - 0s 1ms/step - loss: 0.2370 - accuracy: 0.9464 - val_loss: 0.3726 - val_accuracy: 0.9045\n",
      "Epoch 15/50\n",
      "150/150 [==============================] - 0s 1ms/step - loss: 0.2363 - accuracy: 0.9492 - val_loss: 0.6463 - val_accuracy: 0.7427\n",
      "Epoch 16/50\n",
      "150/150 [==============================] - 0s 1ms/step - loss: 0.2134 - accuracy: 0.9557 - val_loss: 0.3031 - val_accuracy: 0.9483\n",
      "Epoch 17/50\n",
      "150/150 [==============================] - 0s 1ms/step - loss: 0.2158 - accuracy: 0.9531 - val_loss: 0.2967 - val_accuracy: 0.9483\n",
      "Epoch 18/50\n",
      "150/150 [==============================] - 0s 1ms/step - loss: 0.2393 - accuracy: 0.9462 - val_loss: 0.2787 - val_accuracy: 0.9493\n",
      "Epoch 19/50\n",
      "150/150 [==============================] - 0s 1ms/step - loss: 0.2086 - accuracy: 0.9556 - val_loss: 0.3101 - val_accuracy: 0.9415\n",
      "Epoch 20/50\n",
      "150/150 [==============================] - 0s 1ms/step - loss: 0.2262 - accuracy: 0.9478 - val_loss: 0.2583 - val_accuracy: 0.9493\n",
      "Epoch 21/50\n",
      "150/150 [==============================] - 0s 2ms/step - loss: 0.2302 - accuracy: 0.9458 - val_loss: 0.4188 - val_accuracy: 0.8421\n",
      "Epoch 22/50\n",
      "150/150 [==============================] - 0s 1ms/step - loss: 0.2118 - accuracy: 0.9559 - val_loss: 0.2711 - val_accuracy: 0.9493\n",
      "Epoch 23/50\n",
      "150/150 [==============================] - 0s 1ms/step - loss: 0.2038 - accuracy: 0.9583 - val_loss: 0.2832 - val_accuracy: 0.9483\n",
      "Epoch 24/50\n",
      "150/150 [==============================] - 0s 1ms/step - loss: 0.2071 - accuracy: 0.9550 - val_loss: 0.2830 - val_accuracy: 0.9483\n",
      "Epoch 25/50\n",
      "150/150 [==============================] - 0s 1ms/step - loss: 0.2236 - accuracy: 0.9484 - val_loss: 0.3060 - val_accuracy: 0.9405\n",
      "Epoch 26/50\n",
      "150/150 [==============================] - 0s 1ms/step - loss: 0.2204 - accuracy: 0.9501 - val_loss: 0.2791 - val_accuracy: 0.9483\n",
      "Epoch 27/50\n",
      "150/150 [==============================] - 0s 1ms/step - loss: 0.2095 - accuracy: 0.9543 - val_loss: 0.3099 - val_accuracy: 0.9386\n",
      "Epoch 28/50\n",
      "150/150 [==============================] - 0s 1ms/step - loss: 0.2000 - accuracy: 0.9572 - val_loss: 0.2494 - val_accuracy: 0.9493\n",
      "Epoch 29/50\n",
      "150/150 [==============================] - 0s 1ms/step - loss: 0.2125 - accuracy: 0.9507 - val_loss: 0.2964 - val_accuracy: 0.9425\n",
      "Epoch 30/50\n",
      "150/150 [==============================] - 0s 1ms/step - loss: 0.1985 - accuracy: 0.9562 - val_loss: 0.2582 - val_accuracy: 0.9493\n",
      "Epoch 31/50\n",
      "150/150 [==============================] - 0s 1ms/step - loss: 0.2097 - accuracy: 0.9544 - val_loss: 0.2774 - val_accuracy: 0.9483\n",
      "Epoch 32/50\n",
      "150/150 [==============================] - 0s 2ms/step - loss: 0.1966 - accuracy: 0.9572 - val_loss: 0.2763 - val_accuracy: 0.9483\n",
      "Epoch 33/50\n",
      "150/150 [==============================] - 0s 1ms/step - loss: 0.2275 - accuracy: 0.9464 - val_loss: 0.2479 - val_accuracy: 0.9493\n",
      "Epoch 34/50\n",
      "150/150 [==============================] - 0s 1ms/step - loss: 0.2104 - accuracy: 0.9517 - val_loss: 0.5229 - val_accuracy: 0.7768\n",
      "Epoch 35/50\n",
      "150/150 [==============================] - 0s 1ms/step - loss: 0.1875 - accuracy: 0.9595 - val_loss: 0.2455 - val_accuracy: 0.9493\n",
      "Epoch 36/50\n",
      "150/150 [==============================] - 0s 1ms/step - loss: 0.2004 - accuracy: 0.9548 - val_loss: 0.2672 - val_accuracy: 0.9493\n",
      "Epoch 37/50\n",
      "150/150 [==============================] - 0s 1ms/step - loss: 0.2062 - accuracy: 0.9515 - val_loss: 0.2589 - val_accuracy: 0.9493\n",
      "Epoch 38/50\n",
      "150/150 [==============================] - 0s 1ms/step - loss: 0.2130 - accuracy: 0.9491 - val_loss: 0.2749 - val_accuracy: 0.9483\n",
      "Epoch 39/50\n",
      "150/150 [==============================] - 0s 1ms/step - loss: 0.1907 - accuracy: 0.9571 - val_loss: 0.2493 - val_accuracy: 0.9493\n",
      "Epoch 40/50\n",
      "150/150 [==============================] - 0s 1ms/step - loss: 0.2156 - accuracy: 0.9489 - val_loss: 0.2438 - val_accuracy: 0.9493\n",
      "Epoch 41/50\n",
      "150/150 [==============================] - 0s 1ms/step - loss: 0.2350 - accuracy: 0.9353 - val_loss: 0.2369 - val_accuracy: 0.9493\n",
      "Epoch 42/50\n",
      "150/150 [==============================] - 0s 1ms/step - loss: 0.2151 - accuracy: 0.9477 - val_loss: 0.2803 - val_accuracy: 0.9425\n",
      "Epoch 43/50\n",
      "150/150 [==============================] - 0s 1ms/step - loss: 0.2062 - accuracy: 0.9516 - val_loss: 0.2426 - val_accuracy: 0.9493\n",
      "Epoch 44/50\n",
      "150/150 [==============================] - 0s 1ms/step - loss: 0.2083 - accuracy: 0.9507 - val_loss: 0.2750 - val_accuracy: 0.9435\n",
      "Epoch 45/50\n",
      "150/150 [==============================] - 0s 1ms/step - loss: 0.2160 - accuracy: 0.9475 - val_loss: 0.2346 - val_accuracy: 0.9493\n",
      "Epoch 46/50\n",
      "150/150 [==============================] - 0s 1ms/step - loss: 0.1941 - accuracy: 0.9553 - val_loss: 0.2680 - val_accuracy: 0.9454\n",
      "Epoch 47/50\n",
      "150/150 [==============================] - 0s 1ms/step - loss: 0.2001 - accuracy: 0.9507 - val_loss: 0.2478 - val_accuracy: 0.9493\n",
      "Epoch 48/50\n",
      "150/150 [==============================] - 0s 1ms/step - loss: 0.1971 - accuracy: 0.9541 - val_loss: 0.2424 - val_accuracy: 0.9493\n",
      "Epoch 49/50\n",
      "150/150 [==============================] - 0s 1ms/step - loss: 0.2079 - accuracy: 0.9503 - val_loss: 0.2448 - val_accuracy: 0.9493\n",
      "Epoch 50/50\n",
      "150/150 [==============================] - 0s 1ms/step - loss: 0.1997 - accuracy: 0.9537 - val_loss: 0.2297 - val_accuracy: 0.9493\n"
     ]
    }
   ],
   "source": [
    "#For training, 20 epochs will be used and callback is used to stop training when a given accuracy is reached (99.9%)\n",
    "callbacks = myCallback()\n",
    "history = composites_model.fit(comp_features_train, comp_labels_train, epochs=50, batch_size=16, \n",
    "                               validation_batch_size=32, callbacks=[callbacks], \n",
    "                               validation_data=(comp_features_test, comp_labels_test))"
   ]
  },
  {
   "cell_type": "code",
   "execution_count": 13,
   "metadata": {},
   "outputs": [
    {
     "name": "stdout",
     "output_type": "stream",
     "text": [
      "[[0.005 0.995]\n",
      " [0.    1.   ]\n",
      " [0.964 0.036]\n",
      " ...\n",
      " [0.963 0.037]\n",
      " [0.962 0.038]\n",
      " [0.958 0.042]]\n"
     ]
    }
   ],
   "source": [
    "y = composites_model.predict(comp_features_test)\n",
    "print(y)"
   ]
  },
  {
   "cell_type": "code",
   "execution_count": 14,
   "metadata": {},
   "outputs": [
    {
     "data": {
      "image/png": "[encoded data removed]",
      "text/plain": [
       "<Figure size 432x288 with 1 Axes>"
      ]
     },
     "metadata": {
      "needs_background": "light"
     },
     "output_type": "display_data"
    }
   ],
   "source": [
    "#Plot history of model!\n",
    "plt.plot(history.history['accuracy'])\n",
    "plt.plot(history.history['val_accuracy'])\n",
    "plt.title('model accuracy')\n",
    "plt.ylabel('accuracy')\n",
    "plt.xlabel('epoch')\n",
    "plt.legend(['train', 'test'], loc='upper left')\n",
    "plt.show()"
   ]
  },
  {
   "cell_type": "code",
   "execution_count": null,
   "metadata": {},
   "outputs": [],
   "source": []
  }
 ],
 "metadata": {
  "kernelspec": {
   "display_name": "Python 3",
   "language": "python",
   "name": "python3"
  },
  "language_info": {
   "codemirror_mode": {
    "name": "ipython",
    "version": 3
   },
   "file_extension": ".py",
   "mimetype": "text/x-python",
   "name": "python",
   "nbconvert_exporter": "python",
   "pygments_lexer": "ipython3",
   "version": "3.8.5"
  }
 },
 "nbformat": 4,
 "nbformat_minor": 4
}
